{
 "cells": [
  {
   "cell_type": "markdown",
   "metadata": {},
   "source": [
    "## Task-4\n",
    "- Write a Python program that takes two lists and returns True if they have at least one common member."
   ]
  },
  {
   "cell_type": "markdown",
   "metadata": {},
   "source": [
    "#### COMMON MEMBER"
   ]
  },
  {
   "cell_type": "code",
   "execution_count": 1,
   "metadata": {},
   "outputs": [
    {
     "name": "stdout",
     "output_type": "stream",
     "text": [
      "Enter the number of elements in list1 11\n",
      "Enter the numbers 1\n",
      "Enter the numbers 9\n",
      "Enter the numbers 1\n",
      "Enter the numbers 1\n",
      "Enter the numbers 0\n",
      "Enter the numbers 0\n",
      "Enter the numbers 1\n",
      "Enter the numbers 0\n",
      "Enter the numbers 0\n",
      "Enter the numbers 1\n",
      "Enter the numbers 4\n",
      "\n",
      "Enter the number of elements in list2 11\n",
      "Enter the numbers 1\n",
      "Enter the numbers 9\n",
      "Enter the numbers 1\n",
      "Enter the numbers 1\n",
      "Enter the numbers 0\n",
      "Enter the numbers 0\n",
      "Enter the numbers 1\n",
      "Enter the numbers 0\n",
      "Enter the numbers 0\n",
      "Enter the numbers 1\n",
      "Enter the numbers 4\n",
      "\n",
      "The two lists have atleast one common member\n"
     ]
    }
   ],
   "source": [
    "total_l1 = int(input(\"Enter the number of elements in list1 \"))\n",
    "l1 = []\n",
    "for i in range(total_l1):\n",
    "    num1 = int(input(\"Enter the numbers \"))\n",
    "    l1.append(num1)\n",
    "l2 = []\n",
    "total_l2 = int(input(\"\\nEnter the number of elements in list2 \"))\n",
    "for j in range(total_l2):\n",
    "    num2 = int(input(\"Enter the numbers \"))\n",
    "    l2.append(num2)\n",
    "common_member = False\n",
    "for num1 in l1:\n",
    "    for num2 in l2:\n",
    "        if num1 == num2:\n",
    "            common_member = True\n",
    "if common_member == True:\n",
    "    print(\"\\nThe two lists have atleast one common member\")\n",
    "else:\n",
    "    print(\"\\nThe two list does not have any common member\")"
   ]
  },
  {
   "cell_type": "markdown",
   "metadata": {},
   "source": [
    "#### No Common Member"
   ]
  },
  {
   "cell_type": "code",
   "execution_count": 3,
   "metadata": {},
   "outputs": [
    {
     "name": "stdout",
     "output_type": "stream",
     "text": [
      "Enter the number of elements in list1 11\n",
      "Enter the numbers 1\n",
      "Enter the numbers 2\n",
      "Enter the numbers 3\n",
      "Enter the numbers 4\n",
      "Enter the numbers 5\n",
      "Enter the numbers 6\n",
      "Enter the numbers 7\n",
      "Enter the numbers 8\n",
      "Enter the numbers 9\n",
      "Enter the numbers 0\n",
      "Enter the numbers 11\n",
      "\n",
      "Enter the number of elements in list2 11\n",
      "Enter the numbers 12\n",
      "Enter the numbers 13\n",
      "Enter the numbers 14\n",
      "Enter the numbers 15\n",
      "Enter the numbers 16\n",
      "Enter the numbers 17\n",
      "Enter the numbers 18\n",
      "Enter the numbers 19\n",
      "Enter the numbers 20\n",
      "Enter the numbers 21\n",
      "Enter the numbers 22\n",
      "\n",
      "The two list does not have any common member\n"
     ]
    }
   ],
   "source": [
    "total_l1 = int(input(\"Enter the number of elements in list1 \"))\n",
    "l1 = []\n",
    "for i in range(total_l1):\n",
    "    num1 = int(input(\"Enter the numbers \"))\n",
    "    l1.append(num1)\n",
    "l2 = []\n",
    "total_l2 = int(input(\"\\nEnter the number of elements in list2 \"))\n",
    "for j in range(total_l2):\n",
    "    num2 = int(input(\"Enter the numbers \"))\n",
    "    l2.append(num2)\n",
    "common_member = False\n",
    "for num1 in l1:\n",
    "    for num2 in l2:\n",
    "        if num1 == num2:\n",
    "            common_member = True\n",
    "if common_member == True:\n",
    "    print(\"\\nThe two lists have atleast one common member\")\n",
    "else:\n",
    "    print(\"\\nThe two list does not have any common member\")"
   ]
  }
 ],
 "metadata": {
  "kernelspec": {
   "display_name": "Python 3",
   "language": "python",
   "name": "python3"
  },
  "language_info": {
   "codemirror_mode": {
    "name": "ipython",
    "version": 3
   },
   "file_extension": ".py",
   "mimetype": "text/x-python",
   "name": "python",
   "nbconvert_exporter": "python",
   "pygments_lexer": "ipython3",
   "version": "3.8.5"
  }
 },
 "nbformat": 4,
 "nbformat_minor": 4
}
