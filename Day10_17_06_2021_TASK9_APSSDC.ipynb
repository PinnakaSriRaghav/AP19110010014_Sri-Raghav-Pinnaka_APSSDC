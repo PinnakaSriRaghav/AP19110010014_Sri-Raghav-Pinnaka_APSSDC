{
 "cells": [
  {
   "cell_type": "markdown",
   "metadata": {},
   "source": [
    "## Task 9\n",
    "- Generate 3-Digit OTP from two different classes(Mail Class & Phone Class)\n",
    "- Return 6-digit OTP from Base classes(super classes)"
   ]
  },
  {
   "cell_type": "code",
   "execution_count": 3,
   "metadata": {},
   "outputs": [],
   "source": [
    "import random\n",
    "class Mail():\n",
    "    def __init__(self):\n",
    "        self.otp1 = random.randint(000,999)\n",
    "        print(\"3-digit OTP:\",self.otp1)\n",
    "class Phone():\n",
    "    def __init__(self):\n",
    "        self.otp2 = random.randint(000,999)\n",
    "        print(\"3-digit OTP:\", self.otp2)\n",
    "class BaseClass():\n",
    "    def __init__(self):\n",
    "        Mail.__init__(self)\n",
    "        Phone.__init__(self)\n",
    "        print(\"6-digit OTP:\",(str(self.otp1)+str(self.otp2)))"
   ]
  },
  {
   "cell_type": "code",
   "execution_count": 5,
   "metadata": {},
   "outputs": [
    {
     "name": "stdout",
     "output_type": "stream",
     "text": [
      "3-digit OTP: 587\n",
      "3-digit OTP: 254\n",
      "6-digit OTP: 587254\n"
     ]
    }
   ],
   "source": [
    "obj = BaseClass()"
   ]
  }
 ],
 "metadata": {
  "kernelspec": {
   "display_name": "Python 3",
   "language": "python",
   "name": "python3"
  },
  "language_info": {
   "codemirror_mode": {
    "name": "ipython",
    "version": 3
   },
   "file_extension": ".py",
   "mimetype": "text/x-python",
   "name": "python",
   "nbconvert_exporter": "python",
   "pygments_lexer": "ipython3",
   "version": "3.8.5"
  }
 },
 "nbformat": 4,
 "nbformat_minor": 4
}
