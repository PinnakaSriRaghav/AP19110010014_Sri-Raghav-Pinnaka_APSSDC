{
 "cells": [
  {
   "cell_type": "markdown",
   "metadata": {},
   "source": [
    "## Task 2\n",
    " - Take first 3 values of roll number\n",
    " - If value startswith \"191\" --> 'CSE Dept'\n",
    " - elif value startswith \"192\" --> 'IT Dept'\n",
    " - elif value startswith \"193\" --> \"ECE Dept\"\n",
    " - else not an SRM student"
   ]
  },
  {
   "cell_type": "markdown",
   "metadata": {},
   "source": [
    "### CODE:"
   ]
  },
  {
   "cell_type": "code",
   "execution_count": null,
   "metadata": {},
   "outputs": [],
   "source": [
    "roll_num = input(\"Enter your roll number \")\n",
    "if roll_num[2:].startswith(\"191\"):\n",
    "    print(\"CSE Department\")\n",
    "elif roll_num[2:].startswith(\"192\"):\n",
    "    print(\"IT Department\")\n",
    "elif roll_num[2:].startswith(\"193\"):\n",
    "    print(\"ECE Department\")\n",
    "else:\n",
    "    print(\"Not a SRM Student\")"
   ]
  },
  {
   "cell_type": "markdown",
   "metadata": {},
   "source": [
    "## TESTCASES"
   ]
  },
  {
   "cell_type": "code",
   "execution_count": 10,
   "metadata": {},
   "outputs": [
    {
     "name": "stdout",
     "output_type": "stream",
     "text": [
      "Enter your roll number AP19110010014\n",
      "CSE Department\n"
     ]
    }
   ],
   "source": [
    "roll_num = input(\"Enter your roll number \")\n",
    "if roll_num[2:].startswith(\"191\"):\n",
    "    print(\"CSE Department\")\n",
    "elif roll_num[2:].startswith(\"192\"):\n",
    "    print(\"IT Department\")\n",
    "elif roll_num[2:].startswith(\"193\"):\n",
    "    print(\"ECE Department\")\n",
    "else:\n",
    "    print(\"Not a SRM Student\")"
   ]
  },
  {
   "cell_type": "code",
   "execution_count": 6,
   "metadata": {},
   "outputs": [
    {
     "name": "stdout",
     "output_type": "stream",
     "text": [
      "Enter your roll number AP1920010014\n",
      "IT Department\n"
     ]
    }
   ],
   "source": [
    "roll_num = input(\"Enter your roll number \")\n",
    "if roll_num[2:].startswith(\"191\"):\n",
    "    print(\"CSE Department\")\n",
    "elif roll_num[2:].startswith(\"192\"):\n",
    "    print(\"IT Department\")\n",
    "elif roll_num[2:].startswith(\"193\"):\n",
    "    print(\"ECE Department\")\n",
    "else:\n",
    "    print(\"Not a SRM Student\")"
   ]
  },
  {
   "cell_type": "code",
   "execution_count": 7,
   "metadata": {},
   "outputs": [
    {
     "name": "stdout",
     "output_type": "stream",
     "text": [
      "Enter your roll number AP1930010014\n",
      "ECE Department\n"
     ]
    }
   ],
   "source": [
    "roll_num = input(\"Enter your roll number \")\n",
    "if roll_num[2:].startswith(\"191\"):\n",
    "    print(\"CSE Department\")\n",
    "elif roll_num[2:].startswith(\"192\"):\n",
    "    print(\"IT Department\")\n",
    "elif roll_num[2:].startswith(\"193\"):\n",
    "    print(\"ECE Department\")\n",
    "else:\n",
    "    print(\"Not a SRM Student\")"
   ]
  },
  {
   "cell_type": "code",
   "execution_count": 8,
   "metadata": {},
   "outputs": [
    {
     "name": "stdout",
     "output_type": "stream",
     "text": [
      "Enter your roll number AP19010010014\n",
      "Not a SRM Student\n"
     ]
    }
   ],
   "source": [
    "roll_num = input(\"Enter your roll number \")\n",
    "if roll_num[2:].startswith(\"191\"):\n",
    "    print(\"CSE Department\")\n",
    "elif roll_num[2:].startswith(\"192\"):\n",
    "    print(\"IT Department\")\n",
    "elif roll_num[2:].startswith(\"193\"):\n",
    "    print(\"ECE Department\")\n",
    "else:\n",
    "    print(\"Not a SRM Student\")"
   ]
  }
 ],
 "metadata": {
  "kernelspec": {
   "display_name": "Python 3",
   "language": "python",
   "name": "python3"
  },
  "language_info": {
   "codemirror_mode": {
    "name": "ipython",
    "version": 3
   },
   "file_extension": ".py",
   "mimetype": "text/x-python",
   "name": "python",
   "nbconvert_exporter": "python",
   "pygments_lexer": "ipython3",
   "version": "3.8.5"
  }
 },
 "nbformat": 4,
 "nbformat_minor": 4
}
