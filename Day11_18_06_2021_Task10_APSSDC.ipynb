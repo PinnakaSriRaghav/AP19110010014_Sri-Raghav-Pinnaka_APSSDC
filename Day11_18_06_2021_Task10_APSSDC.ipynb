{
 "cells": [
  {
   "cell_type": "markdown",
   "metadata": {},
   "source": [
    "## Task 10\n",
    "- Write a program for getting the last five line from the file"
   ]
  },
  {
   "cell_type": "code",
   "execution_count": 26,
   "metadata": {},
   "outputs": [
    {
     "name": "stdout",
     "output_type": "stream",
     "text": [
      "Overwriting Raghav.txt\n"
     ]
    }
   ],
   "source": [
    "%%writefile Raghav.txt\n",
    "Hii this is Raghav\n",
    "Hello this is raghav\n",
    "Hey this is raghav\n",
    "Who is raghav"
   ]
  },
  {
   "cell_type": "code",
   "execution_count": 27,
   "metadata": {},
   "outputs": [
    {
     "name": "stdout",
     "output_type": "stream",
     "text": [
      "['Hii this is Raghav\\n', 'Hello this is raghav\\n', 'Hey this is raghav\\n', 'Who is raghav\\n']\n"
     ]
    }
   ],
   "source": [
    "with open(\"Raghav.txt\", \"r\") as f:\n",
    "    contents = f.readlines()\n",
    "    lines = contents[-5:]\n",
    "    print(lines)"
   ]
  },
  {
   "cell_type": "markdown",
   "metadata": {},
   "source": [
    "## Create a function for appending the data into the file"
   ]
  },
  {
   "cell_type": "code",
   "execution_count": 28,
   "metadata": {},
   "outputs": [],
   "source": [
    "with open(\"Raghav.txt\", \"r\") as f:\n",
    "    contents = f.read()"
   ]
  },
  {
   "cell_type": "code",
   "execution_count": 29,
   "metadata": {},
   "outputs": [
    {
     "data": {
      "text/plain": [
       "'Hii this is Raghav\\nHello this is raghav\\nHey this is raghav\\nWho is raghav\\n'"
      ]
     },
     "execution_count": 29,
     "metadata": {},
     "output_type": "execute_result"
    }
   ],
   "source": [
    "contents"
   ]
  },
  {
   "cell_type": "code",
   "execution_count": 30,
   "metadata": {},
   "outputs": [
    {
     "name": "stdout",
     "output_type": "stream",
     "text": [
      "Enter the name of the file: Raghav.txt\n",
      "Enter the data to append: who is raghav\n"
     ]
    }
   ],
   "source": [
    "def data_append(file_name, string):\n",
    "    with open(file_name, \"a\") as f:\n",
    "        f.write(string)\n",
    "name_of_the_file = input(\"Enter the name of the file: \")\n",
    "data = input(\"Enter the data to append: \")\n",
    "data_append(name_of_the_file, data)"
   ]
  },
  {
   "cell_type": "code",
   "execution_count": 31,
   "metadata": {},
   "outputs": [],
   "source": [
    "with open(\"Raghav.txt\", \"r\") as f:\n",
    "    contents = f.read()"
   ]
  },
  {
   "cell_type": "code",
   "execution_count": 32,
   "metadata": {},
   "outputs": [
    {
     "data": {
      "text/plain": [
       "'Hii this is Raghav\\nHello this is raghav\\nHey this is raghav\\nWho is raghav\\nwho is raghav'"
      ]
     },
     "execution_count": 32,
     "metadata": {},
     "output_type": "execute_result"
    }
   ],
   "source": [
    "\n",
    "contents"
   ]
  },
  {
   "cell_type": "markdown",
   "metadata": {},
   "source": [
    "## Create a program for updating a word in the file"
   ]
  },
  {
   "cell_type": "code",
   "execution_count": 33,
   "metadata": {},
   "outputs": [
    {
     "name": "stdout",
     "output_type": "stream",
     "text": [
      "Overwriting Raghav1.txt\n"
     ]
    }
   ],
   "source": [
    "%%writefile Raghav1.txt\n",
    "This is a Program"
   ]
  },
  {
   "cell_type": "code",
   "execution_count": 34,
   "metadata": {},
   "outputs": [
    {
     "data": {
      "text/plain": [
       "'This is a Program\\n'"
      ]
     },
     "execution_count": 34,
     "metadata": {},
     "output_type": "execute_result"
    }
   ],
   "source": [
    "with open(\"Raghav1.txt\", \"r\") as f:\n",
    "    contents = f.read()\n",
    "contents"
   ]
  },
  {
   "cell_type": "code",
   "execution_count": 35,
   "metadata": {},
   "outputs": [
    {
     "data": {
      "text/plain": [
       "'This is a Python Program\\n'"
      ]
     },
     "execution_count": 35,
     "metadata": {},
     "output_type": "execute_result"
    }
   ],
   "source": [
    "import re\n",
    "with open(\"Raghav1.txt\", \"r+\") as f:\n",
    "    word = f.read()\n",
    "    word = re.sub('Program', 'Python Program',word) #Replacing 'Program' with 'Python Program'\n",
    "    f.seek(0)\n",
    "    f.write(word)\n",
    "    f.truncate()\n",
    "word"
   ]
  }
 ],
 "metadata": {
  "kernelspec": {
   "display_name": "Python 3",
   "language": "python",
   "name": "python3"
  },
  "language_info": {
   "codemirror_mode": {
    "name": "ipython",
    "version": 3
   },
   "file_extension": ".py",
   "mimetype": "text/x-python",
   "name": "python",
   "nbconvert_exporter": "python",
   "pygments_lexer": "ipython3",
   "version": "3.8.5"
  }
 },
 "nbformat": 4,
 "nbformat_minor": 4
}
